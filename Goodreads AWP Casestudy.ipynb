{
 "cells": [
  {
   "cell_type": "markdown",
   "id": "a616742b-ebb6-4347-8886-3213367cc30c",
   "metadata": {},
   "source": [
    "# Goodreads"
   ]
  },
  {
   "cell_type": "markdown",
   "id": "46cbcef7-25d8-4091-91d5-1c486e535580",
   "metadata": {},
   "source": [
    "Goodreads is the world's largest site for readers and book recommedations with a mission of helping people to find and share books a lot."
   ]
  },
  {
   "cell_type": "markdown",
   "id": "d7bfedca-6ee4-4cc2-a7a4-8510c3ebd273",
   "metadata": {},
   "source": [
    "# Importing Libraries"
   ]
  },
  {
   "cell_type": "code",
   "execution_count": 1,
   "id": "5ab638fa-6537-41d2-94c5-c94efaa433e9",
   "metadata": {},
   "outputs": [],
   "source": [
    "import numpy as np\n",
    "import pandas as pd\n",
    "import matplotlib.pyplot as plt \n",
    "import seaborn as sns \n",
    "import warnings\n",
    "warnings.filterwarnings('ignore')"
   ]
  },
  {
   "cell_type": "markdown",
   "id": "1ffd8ba2-6d3a-496a-b6ad-49fa23535d94",
   "metadata": {},
   "source": [
    "# Reading the file"
   ]
  },
  {
   "cell_type": "code",
   "execution_count": 2,
   "id": "639f2497-0caa-42bb-a84d-35cdaf8d749e",
   "metadata": {},
   "outputs": [
    {
     "data": {
      "text/html": [
       "<div>\n",
       "<style scoped>\n",
       "    .dataframe tbody tr th:only-of-type {\n",
       "        vertical-align: middle;\n",
       "    }\n",
       "\n",
       "    .dataframe tbody tr th {\n",
       "        vertical-align: top;\n",
       "    }\n",
       "\n",
       "    .dataframe thead th {\n",
       "        text-align: right;\n",
       "    }\n",
       "</style>\n",
       "<table border=\"1\" class=\"dataframe\">\n",
       "  <thead>\n",
       "    <tr style=\"text-align: right;\">\n",
       "      <th></th>\n",
       "      <th>bookID</th>\n",
       "      <th>title</th>\n",
       "      <th>authors</th>\n",
       "      <th>average_rating</th>\n",
       "      <th>isbn</th>\n",
       "      <th>isbn13</th>\n",
       "      <th>language_code</th>\n",
       "      <th>num_pages</th>\n",
       "      <th>ratings_count</th>\n",
       "      <th>text_reviews_count</th>\n",
       "      <th>publication_date</th>\n",
       "      <th>publisher</th>\n",
       "    </tr>\n",
       "  </thead>\n",
       "  <tbody>\n",
       "    <tr>\n",
       "      <th>0</th>\n",
       "      <td>1</td>\n",
       "      <td>Harry Potter and the Half-Blood Prince (Harry ...</td>\n",
       "      <td>J.K. Rowling/Mary GrandPré</td>\n",
       "      <td>4.57</td>\n",
       "      <td>439785960</td>\n",
       "      <td>9.78044E+12</td>\n",
       "      <td>eng</td>\n",
       "      <td>652</td>\n",
       "      <td>2095690</td>\n",
       "      <td>27591</td>\n",
       "      <td>9/16/2006</td>\n",
       "      <td>Scholastic Inc.</td>\n",
       "    </tr>\n",
       "    <tr>\n",
       "      <th>1</th>\n",
       "      <td>2</td>\n",
       "      <td>Harry Potter and the Order of the Phoenix (Har...</td>\n",
       "      <td>J.K. Rowling/Mary GrandPré</td>\n",
       "      <td>4.49</td>\n",
       "      <td>439358078</td>\n",
       "      <td>9.78044E+12</td>\n",
       "      <td>eng</td>\n",
       "      <td>870</td>\n",
       "      <td>2153167</td>\n",
       "      <td>29221</td>\n",
       "      <td>09-01-2004</td>\n",
       "      <td>Scholastic Inc.</td>\n",
       "    </tr>\n",
       "    <tr>\n",
       "      <th>2</th>\n",
       "      <td>4</td>\n",
       "      <td>Harry Potter and the Chamber of Secrets (Harry...</td>\n",
       "      <td>J.K. Rowling</td>\n",
       "      <td>4.42</td>\n",
       "      <td>439554896</td>\n",
       "      <td>9.78044E+12</td>\n",
       "      <td>eng</td>\n",
       "      <td>352</td>\n",
       "      <td>6333</td>\n",
       "      <td>244</td>\n",
       "      <td>11-01-2003</td>\n",
       "      <td>Scholastic</td>\n",
       "    </tr>\n",
       "    <tr>\n",
       "      <th>3</th>\n",
       "      <td>5</td>\n",
       "      <td>Harry Potter and the Prisoner of Azkaban (Harr...</td>\n",
       "      <td>J.K. Rowling/Mary GrandPré</td>\n",
       "      <td>4.56</td>\n",
       "      <td>043965548X</td>\n",
       "      <td>9.78044E+12</td>\n",
       "      <td>eng</td>\n",
       "      <td>435</td>\n",
       "      <td>2339585</td>\n",
       "      <td>36325</td>\n",
       "      <td>05-01-2004</td>\n",
       "      <td>Scholastic Inc.</td>\n",
       "    </tr>\n",
       "    <tr>\n",
       "      <th>4</th>\n",
       "      <td>8</td>\n",
       "      <td>Harry Potter Boxed Set  Books 1-5 (Harry Potte...</td>\n",
       "      <td>J.K. Rowling/Mary GrandPré</td>\n",
       "      <td>4.78</td>\n",
       "      <td>439682584</td>\n",
       "      <td>9.78044E+12</td>\n",
       "      <td>eng</td>\n",
       "      <td>2690</td>\n",
       "      <td>41428</td>\n",
       "      <td>164</td>\n",
       "      <td>9/13/2004</td>\n",
       "      <td>Scholastic</td>\n",
       "    </tr>\n",
       "    <tr>\n",
       "      <th>...</th>\n",
       "      <td>...</td>\n",
       "      <td>...</td>\n",
       "      <td>...</td>\n",
       "      <td>...</td>\n",
       "      <td>...</td>\n",
       "      <td>...</td>\n",
       "      <td>...</td>\n",
       "      <td>...</td>\n",
       "      <td>...</td>\n",
       "      <td>...</td>\n",
       "      <td>...</td>\n",
       "      <td>...</td>\n",
       "    </tr>\n",
       "    <tr>\n",
       "      <th>11122</th>\n",
       "      <td>45631</td>\n",
       "      <td>Expelled from Eden: A William T. Vollmann Reader</td>\n",
       "      <td>William T. Vollmann/Larry McCaffery/Michael He...</td>\n",
       "      <td>4.06</td>\n",
       "      <td>1560254416</td>\n",
       "      <td>9.78156E+12</td>\n",
       "      <td>eng</td>\n",
       "      <td>512</td>\n",
       "      <td>156</td>\n",
       "      <td>20</td>\n",
       "      <td>12/21/2004</td>\n",
       "      <td>Da Capo Press</td>\n",
       "    </tr>\n",
       "    <tr>\n",
       "      <th>11123</th>\n",
       "      <td>45633</td>\n",
       "      <td>You Bright and Risen Angels</td>\n",
       "      <td>William T. Vollmann</td>\n",
       "      <td>4.08</td>\n",
       "      <td>140110879</td>\n",
       "      <td>9.78014E+12</td>\n",
       "      <td>eng</td>\n",
       "      <td>635</td>\n",
       "      <td>783</td>\n",
       "      <td>56</td>\n",
       "      <td>12-01-1988</td>\n",
       "      <td>Penguin Books</td>\n",
       "    </tr>\n",
       "    <tr>\n",
       "      <th>11124</th>\n",
       "      <td>45634</td>\n",
       "      <td>The Ice-Shirt (Seven Dreams #1)</td>\n",
       "      <td>William T. Vollmann</td>\n",
       "      <td>3.96</td>\n",
       "      <td>140131965</td>\n",
       "      <td>9.78014E+12</td>\n",
       "      <td>eng</td>\n",
       "      <td>415</td>\n",
       "      <td>820</td>\n",
       "      <td>95</td>\n",
       "      <td>08-01-1993</td>\n",
       "      <td>Penguin Books</td>\n",
       "    </tr>\n",
       "    <tr>\n",
       "      <th>11125</th>\n",
       "      <td>45639</td>\n",
       "      <td>Poor People</td>\n",
       "      <td>William T. Vollmann</td>\n",
       "      <td>3.72</td>\n",
       "      <td>60878827</td>\n",
       "      <td>9.78006E+12</td>\n",
       "      <td>eng</td>\n",
       "      <td>434</td>\n",
       "      <td>769</td>\n",
       "      <td>139</td>\n",
       "      <td>2/27/2007</td>\n",
       "      <td>Ecco</td>\n",
       "    </tr>\n",
       "    <tr>\n",
       "      <th>11126</th>\n",
       "      <td>45641</td>\n",
       "      <td>Las aventuras de Tom Sawyer</td>\n",
       "      <td>Mark Twain</td>\n",
       "      <td>3.91</td>\n",
       "      <td>8497646983</td>\n",
       "      <td>9.7885E+12</td>\n",
       "      <td>spa</td>\n",
       "      <td>272</td>\n",
       "      <td>113</td>\n",
       "      <td>12</td>\n",
       "      <td>5/28/2006</td>\n",
       "      <td>Edimat Libros</td>\n",
       "    </tr>\n",
       "  </tbody>\n",
       "</table>\n",
       "<p>11127 rows × 12 columns</p>\n",
       "</div>"
      ],
      "text/plain": [
       "       bookID                                              title  \\\n",
       "0           1  Harry Potter and the Half-Blood Prince (Harry ...   \n",
       "1           2  Harry Potter and the Order of the Phoenix (Har...   \n",
       "2           4  Harry Potter and the Chamber of Secrets (Harry...   \n",
       "3           5  Harry Potter and the Prisoner of Azkaban (Harr...   \n",
       "4           8  Harry Potter Boxed Set  Books 1-5 (Harry Potte...   \n",
       "...       ...                                                ...   \n",
       "11122   45631   Expelled from Eden: A William T. Vollmann Reader   \n",
       "11123   45633                        You Bright and Risen Angels   \n",
       "11124   45634                    The Ice-Shirt (Seven Dreams #1)   \n",
       "11125   45639                                        Poor People   \n",
       "11126   45641                        Las aventuras de Tom Sawyer   \n",
       "\n",
       "                                                 authors average_rating  \\\n",
       "0                             J.K. Rowling/Mary GrandPré           4.57   \n",
       "1                             J.K. Rowling/Mary GrandPré           4.49   \n",
       "2                                           J.K. Rowling           4.42   \n",
       "3                             J.K. Rowling/Mary GrandPré           4.56   \n",
       "4                             J.K. Rowling/Mary GrandPré           4.78   \n",
       "...                                                  ...            ...   \n",
       "11122  William T. Vollmann/Larry McCaffery/Michael He...           4.06   \n",
       "11123                                William T. Vollmann           4.08   \n",
       "11124                                William T. Vollmann           3.96   \n",
       "11125                                William T. Vollmann           3.72   \n",
       "11126                                         Mark Twain           3.91   \n",
       "\n",
       "             isbn       isbn13 language_code   num_pages  ratings_count  \\\n",
       "0       439785960  9.78044E+12           eng         652        2095690   \n",
       "1       439358078  9.78044E+12           eng         870        2153167   \n",
       "2       439554896  9.78044E+12           eng         352           6333   \n",
       "3      043965548X  9.78044E+12           eng         435        2339585   \n",
       "4       439682584  9.78044E+12           eng        2690          41428   \n",
       "...           ...          ...           ...         ...            ...   \n",
       "11122  1560254416  9.78156E+12           eng         512            156   \n",
       "11123   140110879  9.78014E+12           eng         635            783   \n",
       "11124   140131965  9.78014E+12           eng         415            820   \n",
       "11125    60878827  9.78006E+12           eng         434            769   \n",
       "11126  8497646983   9.7885E+12           spa         272            113   \n",
       "\n",
       "       text_reviews_count publication_date        publisher  \n",
       "0                   27591        9/16/2006  Scholastic Inc.  \n",
       "1                   29221       09-01-2004  Scholastic Inc.  \n",
       "2                     244       11-01-2003       Scholastic  \n",
       "3                   36325       05-01-2004  Scholastic Inc.  \n",
       "4                     164        9/13/2004       Scholastic  \n",
       "...                   ...              ...              ...  \n",
       "11122                  20       12/21/2004    Da Capo Press  \n",
       "11123                  56       12-01-1988    Penguin Books  \n",
       "11124                  95       08-01-1993    Penguin Books  \n",
       "11125                 139        2/27/2007             Ecco  \n",
       "11126                  12        5/28/2006    Edimat Libros  \n",
       "\n",
       "[11127 rows x 12 columns]"
      ]
     },
     "execution_count": 2,
     "metadata": {},
     "output_type": "execute_result"
    }
   ],
   "source": [
    "df=pd.read_csv(\"goodreads.csv\")\n",
    "df"
   ]
  },
  {
   "cell_type": "markdown",
   "id": "ba5caade-6e19-47e6-89dd-c7f1c6efd8c4",
   "metadata": {},
   "source": [
    "# Checking the datatypes"
   ]
  },
  {
   "cell_type": "code",
   "execution_count": 7,
   "id": "195dc4a2-2e1a-4ad7-abf4-3b2b0bc91f1f",
   "metadata": {},
   "outputs": [
    {
     "name": "stdout",
     "output_type": "stream",
     "text": [
      "<class 'pandas.core.frame.DataFrame'>\n",
      "RangeIndex: 11127 entries, 0 to 11126\n",
      "Data columns (total 12 columns):\n",
      " #   Column              Non-Null Count  Dtype \n",
      "---  ------              --------------  ----- \n",
      " 0   bookID              11127 non-null  int64 \n",
      " 1   title               11127 non-null  object\n",
      " 2   authors             11127 non-null  object\n",
      " 3   average_rating      11127 non-null  object\n",
      " 4   isbn                11127 non-null  object\n",
      " 5   isbn13              11127 non-null  object\n",
      " 6   language_code       11127 non-null  object\n",
      " 7     num_pages         11127 non-null  object\n",
      " 8   ratings_count       11127 non-null  int64 \n",
      " 9   text_reviews_count  11127 non-null  int64 \n",
      " 10  publication_date    11127 non-null  object\n",
      " 11  publisher           11127 non-null  object\n",
      "dtypes: int64(3), object(9)\n",
      "memory usage: 1.0+ MB\n"
     ]
    }
   ],
   "source": [
    "df.info()"
   ]
  },
  {
   "cell_type": "markdown",
   "id": "c4950f92-e3b1-40c0-a3cd-2f02710173d5",
   "metadata": {},
   "source": [
    "# Detecting the null values"
   ]
  },
  {
   "cell_type": "code",
   "execution_count": 9,
   "id": "1120ff61-3871-481f-ac60-b76eebd14af7",
   "metadata": {},
   "outputs": [
    {
     "data": {
      "text/plain": [
       "bookID                0\n",
       "title                 0\n",
       "authors               0\n",
       "average_rating        0\n",
       "isbn                  0\n",
       "isbn13                0\n",
       "language_code         0\n",
       "  num_pages           0\n",
       "ratings_count         0\n",
       "text_reviews_count    0\n",
       "publication_date      0\n",
       "publisher             0\n",
       "dtype: int64"
      ]
     },
     "execution_count": 9,
     "metadata": {},
     "output_type": "execute_result"
    }
   ],
   "source": [
    "df.isnull().sum()"
   ]
  },
  {
   "cell_type": "markdown",
   "id": "e3ea0d87-3cbc-481c-a098-d3d8a030bc35",
   "metadata": {},
   "source": [
    "# Column names"
   ]
  },
  {
   "cell_type": "code",
   "execution_count": 11,
   "id": "6756a57f-5e0a-445c-8693-e290dc01050f",
   "metadata": {},
   "outputs": [
    {
     "data": {
      "text/plain": [
       "Index(['bookID', 'title', 'authors', 'average_rating', 'isbn', 'isbn13',\n",
       "       'language_code', '  num_pages', 'ratings_count', 'text_reviews_count',\n",
       "       'publication_date', 'publisher'],\n",
       "      dtype='object')"
      ]
     },
     "execution_count": 11,
     "metadata": {},
     "output_type": "execute_result"
    }
   ],
   "source": [
    "df.columns"
   ]
  },
  {
   "cell_type": "markdown",
   "id": "2dd225e9-af3b-467a-a5f8-392637948331",
   "metadata": {},
   "source": [
    "# Finding the missing values"
   ]
  },
  {
   "cell_type": "code",
   "execution_count": 13,
   "id": "ccf88f37-f8e0-4a25-b97c-8d91fa056d33",
   "metadata": {},
   "outputs": [
    {
     "data": {
      "text/plain": [
       "array(['4.57', '4.49', '4.42', '4.56', '4.78', '3.74', '4.73', '4.38',\n",
       "       '4.22', '4.21', '3.44', '3.87', '4.07', '3.9', '3.83', '3.86',\n",
       "       '3.91', '3.93', '4.59', '4.5', '4.36', '4.53', '3.84', '3.72', '4',\n",
       "       '3.88', '4.33', '3.45', '3.76', '3.6', '4.06', '4.17', '3.55',\n",
       "       '3.98', '4.13', '3.95', '4.24', '4.34', '3.92', '4.23', '3.75',\n",
       "       '3.94', '3.77', '4.46', '3.68', '3.99', '3.25', '3.89', '3.82',\n",
       "       '3.78', '4.01', '4.35', '4.28', '3.34', '3.67', '3.48', '3.5',\n",
       "       '3.62', '4.27', '3.39', '4.12', '4.08', '4.05', '3.85', '2.99',\n",
       "       '4.19', '3.71', '4.2', '3.65', '3.4', '4.11', '3.42', '4.02',\n",
       "       '3.69', '4.1', '3.66', '4.61', '4.04', '3.97', '4.14', '3.57',\n",
       "       '3.43', '3.22', '3.64', '3.96', '3.8', '3.81', '3.79', '3.23',\n",
       "       '4.15', '4.39', '4.03', '3.73', '3.51', '3.63', '3.09', '3.59',\n",
       "       '4.29', '0', '4.25', '4.26', '3.61', '4.16', '4.55', '4.52',\n",
       "       '3.41', '4.7', '4.18', '3.58', '4.51', '3.15', '3.31', '4.09',\n",
       "       '3.49', '3.56', '4.47', '4.44', '3.7', '4.32', '4.4', '4.31',\n",
       "       '4.43', '2.8', '3.46', '2.83', '4.62', '2.67', '4.45', '4.3', '5',\n",
       "       '3.1', '3.08', '3.27', '3.33', '3', '4.67', '4.63', '3.52', '3.36',\n",
       "       '3.54', '3.17', '4.37', '3.29', '4.64', '3.38', '3.37', '3.16',\n",
       "       '3.53', '2.88', '2.98', '3.35', '3.3', '3.24', '4.41', '4.48',\n",
       "       '4.54', '4.6', '3.32', '3.13', '2', '3.2', '4.58', '2.82', '3.28',\n",
       "       '2.62', '2.92', '3.47', '3.02', '1', ' Jr./Sam B. Warner', '3.14',\n",
       "       '3.12', '3.18', '2.86', '3.26', '3.19', '3.03', '3.07', '3.11',\n",
       "       '4.91', '2.55', '2.81', '4.75',\n",
       "       ' one of the founding members of this Tolkien website)/Verlyn Flieger/Turgon (=David E. Smith)',\n",
       "       '3.21', '4.71', '4.8', '2.72', '2.79', '2.96', '2.75', ' Rawles',\n",
       "       '4.86', '4.65', '2.5', '4.82', '4.76', '4.72', '4.69', '1.67',\n",
       "       '3.06', '2.94', '2.89', '3.04', '2.4', '2.61', ' Son & Ferguson',\n",
       "       '2.77', '2.63', '4.88', '4.83', '2.93', '2.33'], dtype=object)"
      ]
     },
     "execution_count": 13,
     "metadata": {},
     "output_type": "execute_result"
    }
   ],
   "source": [
    "df['average_rating'].unique()"
   ]
  },
  {
   "cell_type": "markdown",
   "id": "c13af8e3-bcc5-44a8-b7db-90525c243750",
   "metadata": {},
   "source": [
    "# Replacing the texts with null values   "
   ]
  },
  {
   "cell_type": "code",
   "execution_count": 15,
   "id": "d3e9f42e-5188-4c87-bfee-b836fdbea6a3",
   "metadata": {},
   "outputs": [],
   "source": [
    "df['average_rating'].replace(' Jr./Sam B. Warner',np.nan,inplace=True)"
   ]
  },
  {
   "cell_type": "code",
   "execution_count": 17,
   "id": "f3bb5e94-40c0-4b54-b4ce-e45f982f4a5a",
   "metadata": {},
   "outputs": [],
   "source": [
    "df['average_rating'].replace(' one of the founding members of this Tolkien website)/Verlyn Flieger/Turgon (=David E. Smith)',np.nan,inplace=True)"
   ]
  },
  {
   "cell_type": "code",
   "execution_count": 23,
   "id": "ca1cc305-643a-4751-b455-500e1cdc1b58",
   "metadata": {},
   "outputs": [],
   "source": [
    "df['average_rating'].replace(' Rawles',np.nan,inplace=True)"
   ]
  },
  {
   "cell_type": "code",
   "execution_count": 25,
   "id": "b6e51b2a-2f6c-4ffc-9ad3-58b21f6e46f1",
   "metadata": {},
   "outputs": [],
   "source": [
    "df['average_rating'].replace(' Son & Ferguson',np.nan,inplace=True)"
   ]
  },
  {
   "cell_type": "markdown",
   "id": "9a0c00bf-83c0-44b8-bba1-1b729632e1c8",
   "metadata": {},
   "source": [
    "# Changing the datatype"
   ]
  },
  {
   "cell_type": "code",
   "execution_count": 27,
   "id": "26477230-5390-4759-ad09-9d1a9736d844",
   "metadata": {},
   "outputs": [],
   "source": [
    "df['average_rating']=df['average_rating'].astype(float)"
   ]
  },
  {
   "cell_type": "markdown",
   "id": "93cf44b5-db26-471c-8231-898298f2c304",
   "metadata": {},
   "source": [
    "# Calculating the mean"
   ]
  },
  {
   "cell_type": "code",
   "execution_count": 29,
   "id": "53395982-220e-4929-9b2c-9b6e89e2cac9",
   "metadata": {},
   "outputs": [],
   "source": [
    "ar_mean=df['average_rating'].mean()"
   ]
  },
  {
   "cell_type": "code",
   "execution_count": 31,
   "id": "4b2bb139-d700-4f58-aa6b-b9700cd88094",
   "metadata": {},
   "outputs": [
    {
     "data": {
      "text/plain": [
       "array([4.57, 4.49, 4.42, 4.56, 4.78, 3.74, 4.73, 4.38, 4.22, 4.21, 3.44,\n",
       "       3.87, 4.07, 3.9 , 3.83, 3.86, 3.91, 3.93, 4.59, 4.5 , 4.36, 4.53,\n",
       "       3.84, 3.72, 4.  , 3.88, 4.33, 3.45, 3.76, 3.6 , 4.06, 4.17, 3.55,\n",
       "       3.98, 4.13, 3.95, 4.24, 4.34, 3.92, 4.23, 3.75, 3.94, 3.77, 4.46,\n",
       "       3.68, 3.99, 3.25, 3.89, 3.82, 3.78, 4.01, 4.35, 4.28, 3.34, 3.67,\n",
       "       3.48, 3.5 , 3.62, 4.27, 3.39, 4.12, 4.08, 4.05, 3.85, 2.99, 4.19,\n",
       "       3.71, 4.2 , 3.65, 3.4 , 4.11, 3.42, 4.02, 3.69, 4.1 , 3.66, 4.61,\n",
       "       4.04, 3.97, 4.14, 3.57, 3.43, 3.22, 3.64, 3.96, 3.8 , 3.81, 3.79,\n",
       "       3.23, 4.15, 4.39, 4.03, 3.73, 3.51, 3.63, 3.09, 3.59, 4.29, 0.  ,\n",
       "       4.25, 4.26, 3.61, 4.16, 4.55, 4.52, 3.41, 4.7 , 4.18, 3.58, 4.51,\n",
       "       3.15, 3.31, 4.09, 3.49, 3.56, 4.47, 4.44, 3.7 , 4.32, 4.4 , 4.31,\n",
       "       4.43, 2.8 , 3.46, 2.83, 4.62, 2.67, 4.45, 4.3 , 5.  , 3.1 , 3.08,\n",
       "       3.27, 3.33, 3.  , 4.67, 4.63, 3.52, 3.36, 3.54, 3.17, 4.37, 3.29,\n",
       "       4.64, 3.38, 3.37, 3.16, 3.53, 2.88, 2.98, 3.35, 3.3 , 3.24, 4.41,\n",
       "       4.48, 4.54, 4.6 , 3.32, 3.13, 2.  , 3.2 , 4.58, 2.82, 3.28, 2.62,\n",
       "       2.92, 3.47, 3.02, 1.  ,  nan, 3.14, 3.12, 3.18, 2.86, 3.26, 3.19,\n",
       "       3.03, 3.07, 3.11, 4.91, 2.55, 2.81, 4.75, 3.21, 4.71, 4.8 , 2.72,\n",
       "       2.79, 2.96, 2.75, 4.86, 4.65, 2.5 , 4.82, 4.76, 4.72, 4.69, 1.67,\n",
       "       3.06, 2.94, 2.89, 3.04, 2.4 , 2.61, 2.77, 2.63, 4.88, 4.83, 2.93,\n",
       "       2.33])"
      ]
     },
     "execution_count": 31,
     "metadata": {},
     "output_type": "execute_result"
    }
   ],
   "source": [
    "df['average_rating'].unique()"
   ]
  },
  {
   "cell_type": "markdown",
   "id": "f52268ce-4b80-4f0c-aa33-7704595f6fbb",
   "metadata": {},
   "source": [
    "# Filling the null values with the mean"
   ]
  },
  {
   "cell_type": "code",
   "execution_count": 33,
   "id": "b1db27be-97ef-4064-8d68-bcd15828fcad",
   "metadata": {},
   "outputs": [],
   "source": [
    "df['average_rating'].fillna(ar_mean,inplace=True)"
   ]
  },
  {
   "cell_type": "code",
   "execution_count": 35,
   "id": "777a8069-c528-4042-aba4-7eb487bce137",
   "metadata": {},
   "outputs": [
    {
     "data": {
      "text/plain": [
       "array([4.57      , 4.49      , 4.42      , 4.56      , 4.78      ,\n",
       "       3.74      , 4.73      , 4.38      , 4.22      , 4.21      ,\n",
       "       3.44      , 3.87      , 4.07      , 3.9       , 3.83      ,\n",
       "       3.86      , 3.91      , 3.93      , 4.59      , 4.5       ,\n",
       "       4.36      , 4.53      , 3.84      , 3.72      , 4.        ,\n",
       "       3.88      , 4.33      , 3.45      , 3.76      , 3.6       ,\n",
       "       4.06      , 4.17      , 3.55      , 3.98      , 4.13      ,\n",
       "       3.95      , 4.24      , 4.34      , 3.92      , 4.23      ,\n",
       "       3.75      , 3.94      , 3.77      , 4.46      , 3.68      ,\n",
       "       3.99      , 3.25      , 3.89      , 3.82      , 3.78      ,\n",
       "       4.01      , 4.35      , 4.28      , 3.34      , 3.67      ,\n",
       "       3.48      , 3.5       , 3.62      , 4.27      , 3.39      ,\n",
       "       4.12      , 4.08      , 4.05      , 3.85      , 2.99      ,\n",
       "       4.19      , 3.71      , 4.2       , 3.65      , 3.4       ,\n",
       "       4.11      , 3.42      , 4.02      , 3.69      , 4.1       ,\n",
       "       3.66      , 4.61      , 4.04      , 3.97      , 4.14      ,\n",
       "       3.57      , 3.43      , 3.22      , 3.64      , 3.96      ,\n",
       "       3.8       , 3.81      , 3.79      , 3.23      , 4.15      ,\n",
       "       4.39      , 4.03      , 3.73      , 3.51      , 3.63      ,\n",
       "       3.09      , 3.59      , 4.29      , 0.        , 4.25      ,\n",
       "       4.26      , 3.61      , 4.16      , 4.55      , 4.52      ,\n",
       "       3.41      , 4.7       , 4.18      , 3.58      , 4.51      ,\n",
       "       3.15      , 3.31      , 4.09      , 3.49      , 3.56      ,\n",
       "       4.47      , 4.44      , 3.7       , 4.32      , 4.4       ,\n",
       "       4.31      , 4.43      , 2.8       , 3.46      , 2.83      ,\n",
       "       4.62      , 2.67      , 4.45      , 4.3       , 5.        ,\n",
       "       3.1       , 3.08      , 3.27      , 3.33      , 3.        ,\n",
       "       4.67      , 4.63      , 3.52      , 3.36      , 3.54      ,\n",
       "       3.17      , 4.37      , 3.29      , 4.64      , 3.38      ,\n",
       "       3.37      , 3.16      , 3.53      , 2.88      , 2.98      ,\n",
       "       3.35      , 3.3       , 3.24      , 4.41      , 4.48      ,\n",
       "       4.54      , 4.6       , 3.32      , 3.13      , 2.        ,\n",
       "       3.2       , 4.58      , 2.82      , 3.28      , 2.62      ,\n",
       "       2.92      , 3.47      , 3.02      , 1.        , 3.93407534,\n",
       "       3.14      , 3.12      , 3.18      , 2.86      , 3.26      ,\n",
       "       3.19      , 3.03      , 3.07      , 3.11      , 4.91      ,\n",
       "       2.55      , 2.81      , 4.75      , 3.21      , 4.71      ,\n",
       "       4.8       , 2.72      , 2.79      , 2.96      , 2.75      ,\n",
       "       4.86      , 4.65      , 2.5       , 4.82      , 4.76      ,\n",
       "       4.72      , 4.69      , 1.67      , 3.06      , 2.94      ,\n",
       "       2.89      , 3.04      , 2.4       , 2.61      , 2.77      ,\n",
       "       2.63      , 4.88      , 4.83      , 2.93      , 2.33      ])"
      ]
     },
     "execution_count": 35,
     "metadata": {},
     "output_type": "execute_result"
    }
   ],
   "source": [
    "df['average_rating'].unique()"
   ]
  },
  {
   "cell_type": "markdown",
   "id": "fd86723b-2409-436c-a280-b923c49b5e3d",
   "metadata": {},
   "source": [
    "# Rechecking the datatypes"
   ]
  },
  {
   "cell_type": "code",
   "execution_count": 37,
   "id": "43116d0b-0586-41bf-a828-02aa89ef448d",
   "metadata": {},
   "outputs": [
    {
     "name": "stdout",
     "output_type": "stream",
     "text": [
      "<class 'pandas.core.frame.DataFrame'>\n",
      "RangeIndex: 11127 entries, 0 to 11126\n",
      "Data columns (total 12 columns):\n",
      " #   Column              Non-Null Count  Dtype  \n",
      "---  ------              --------------  -----  \n",
      " 0   bookID              11127 non-null  int64  \n",
      " 1   title               11127 non-null  object \n",
      " 2   authors             11127 non-null  object \n",
      " 3   average_rating      11127 non-null  float64\n",
      " 4   isbn                11127 non-null  object \n",
      " 5   isbn13              11127 non-null  object \n",
      " 6   language_code       11127 non-null  object \n",
      " 7     num_pages         11127 non-null  object \n",
      " 8   ratings_count       11127 non-null  int64  \n",
      " 9   text_reviews_count  11127 non-null  int64  \n",
      " 10  publication_date    11127 non-null  object \n",
      " 11  publisher           11127 non-null  object \n",
      "dtypes: float64(1), int64(3), object(8)\n",
      "memory usage: 1.0+ MB\n"
     ]
    }
   ],
   "source": [
    "df.info()"
   ]
  },
  {
   "cell_type": "markdown",
   "id": "a3118432-c0c0-48d6-8dac-95aaed0dec6f",
   "metadata": {},
   "source": [
    "### Total books written by Mark Twain."
   ]
  },
  {
   "cell_type": "code",
   "execution_count": 35,
   "id": "272f4a6c-1c82-4bd8-88c0-6b118c50af37",
   "metadata": {},
   "outputs": [
    {
     "data": {
      "text/plain": [
       "115"
      ]
     },
     "execution_count": 35,
     "metadata": {},
     "output_type": "execute_result"
    }
   ],
   "source": [
    "len(df['title'].loc[(df['authors']=='Mark Twain')].sum())"
   ]
  },
  {
   "cell_type": "markdown",
   "id": "3e214c13-66d5-4994-81d0-f838eaa162dd",
   "metadata": {},
   "source": [
    "### What is the average rating of Untouchable?"
   ]
  },
  {
   "cell_type": "code",
   "execution_count": 71,
   "id": "06419031-c460-4a51-ae67-d2abdbd00068",
   "metadata": {},
   "outputs": [
    {
     "data": {
      "text/plain": [
       "3.71"
      ]
     },
     "execution_count": 71,
     "metadata": {},
     "output_type": "execute_result"
    }
   ],
   "source": [
    "df['average_rating'].loc[(df['title']=='Untouchable')].sum()"
   ]
  },
  {
   "cell_type": "markdown",
   "id": "db9f35f2-2f5e-4439-8512-ab58ad069202",
   "metadata": {},
   "source": [
    "### What is the isbn of A Winter Haunting (Seasons of Horror  #2)?\n",
    "(isbn stands for International Standard Book Number, a unique identifier for the book edition.)"
   ]
  },
  {
   "cell_type": "code",
   "execution_count": 73,
   "id": "c1815e1d-8347-43b1-afaa-e5c044cb8599",
   "metadata": {},
   "outputs": [
    {
     "data": {
      "text/plain": [
       "'380817160'"
      ]
     },
     "execution_count": 73,
     "metadata": {},
     "output_type": "execute_result"
    }
   ],
   "source": [
    "df['isbn'].loc[(df['title']=='A Winter Haunting (Seasons of Horror  #2)')].sum()"
   ]
  },
  {
   "cell_type": "markdown",
   "id": "01c80cbe-9e32-431a-9846-db934b39cd6b",
   "metadata": {},
   "source": [
    "### Total number of pages in Love Letters."
   ]
  },
  {
   "cell_type": "code",
   "execution_count": 39,
   "id": "b72c4ffc-5d0b-4165-a275-277dbbd08ba6",
   "metadata": {},
   "outputs": [
    {
     "data": {
      "text/plain": [
       "'178'"
      ]
     },
     "execution_count": 39,
     "metadata": {},
     "output_type": "execute_result"
    }
   ],
   "source": [
    "df['  num_pages'].loc[(df['title']=='Love Letters')].sum()"
   ]
  },
  {
   "cell_type": "markdown",
   "id": "f25b476e-94af-4a2b-88c5-82d032da741c",
   "metadata": {},
   "source": [
    "### In which languages is The Known World written?"
   ]
  },
  {
   "cell_type": "code",
   "execution_count": 75,
   "id": "4051d204-3541-4881-b0d4-9ede1b75ab75",
   "metadata": {},
   "outputs": [
    {
     "data": {
      "text/plain": [
       "39        eng\n",
       "40      en-US\n",
       "41        eng\n",
       "3193      eng\n",
       "Name: language_code, dtype: object"
      ]
     },
     "execution_count": 75,
     "metadata": {},
     "output_type": "execute_result"
    }
   ],
   "source": [
    "df['language_code'].loc[(df['title']=='The Known World')]"
   ]
  },
  {
   "cell_type": "code",
   "execution_count": 43,
   "id": "ba71e17e-e450-4e20-9041-2e9a56ad2d7e",
   "metadata": {},
   "outputs": [
    {
     "data": {
      "text/plain": [
       "array(['eng', 'en-US', 'fre', 'spa', 'en-GB', 'mul', 'grc', 'enm',\n",
       "       'en-CA', 'ger', 'jpn', 'ara', 'nl', 'zho', 'lat', 'por', 'srp',\n",
       "       '9.78067E+12', 'ita', '9.78159E+12', 'rus', '9.78156E+12', 'msa',\n",
       "       'glg', 'wel', 'swe', 'nor', '9.78085E+12', 'tur', 'gla', 'ale'],\n",
       "      dtype=object)"
      ]
     },
     "execution_count": 43,
     "metadata": {},
     "output_type": "execute_result"
    }
   ],
   "source": [
    "df['language_code'].unique()"
   ]
  },
  {
   "cell_type": "markdown",
   "id": "6edf7422-f8ba-4004-b039-38bd9b02f629",
   "metadata": {},
   "source": [
    "### When was Beloved published?"
   ]
  },
  {
   "cell_type": "code",
   "execution_count": 67,
   "id": "0d444782-f532-40fa-969b-033229d55d22",
   "metadata": {},
   "outputs": [
    {
     "data": {
      "text/plain": [
       "1742    06-08-2004\n",
       "3074    10/17/2006\n",
       "Name: publication_date, dtype: object"
      ]
     },
     "execution_count": 67,
     "metadata": {},
     "output_type": "execute_result"
    }
   ],
   "source": [
    "df['publication_date'].loc[(df['title']=='Beloved')]"
   ]
  },
  {
   "cell_type": "markdown",
   "id": "b7df4a51-7f22-4be6-886b-bb2e3362beac",
   "metadata": {},
   "source": [
    "### Who are the authors of Siddhartha?"
   ]
  },
  {
   "cell_type": "code",
   "execution_count": 59,
   "id": "d77a8b74-8849-4421-af1c-ca4abaf6124f",
   "metadata": {},
   "outputs": [
    {
     "data": {
      "text/plain": [
       "1735           Hermann Hesse/Susan Bernofsky/Tom Robbins\n",
       "1736    Hermann Hesse/Joachim Neugroschel/Ralph Freedman\n",
       "1737                                       Hermann Hesse\n",
       "3597                                       Hermann Hesse\n",
       "Name: authors, dtype: object"
      ]
     },
     "execution_count": 59,
     "metadata": {},
     "output_type": "execute_result"
    }
   ],
   "source": [
    "df['authors'].loc[(df['title']=='Siddhartha')]"
   ]
  },
  {
   "cell_type": "markdown",
   "id": "488db982-9188-4a1d-a7cd-c509c6d83d77",
   "metadata": {},
   "source": [
    "### Books in the en-US language written by Robert A. Heinlein."
   ]
  },
  {
   "cell_type": "code",
   "execution_count": 45,
   "id": "29aaae74-5a98-4b8f-ac56-e4f3b5e856b8",
   "metadata": {},
   "outputs": [
    {
     "data": {
      "text/plain": [
       "array(['eng', 'en-US', 'fre', 'spa', 'en-GB', 'mul', 'grc', 'enm',\n",
       "       'en-CA', 'ger', 'jpn', 'ara', 'nl', 'zho', 'lat', 'por', 'srp',\n",
       "       '9.78067E+12', 'ita', '9.78159E+12', 'rus', '9.78156E+12', 'msa',\n",
       "       'glg', 'wel', 'swe', 'nor', '9.78085E+12', 'tur', 'gla', 'ale'],\n",
       "      dtype=object)"
      ]
     },
     "execution_count": 45,
     "metadata": {},
     "output_type": "execute_result"
    }
   ],
   "source": [
    "df['language_code'].unique()"
   ]
  },
  {
   "cell_type": "code",
   "execution_count": 43,
   "id": "cad85992-21bf-4069-a792-7f12dbfbd074",
   "metadata": {},
   "outputs": [
    {
     "data": {
      "text/html": [
       "<div>\n",
       "<style scoped>\n",
       "    .dataframe tbody tr th:only-of-type {\n",
       "        vertical-align: middle;\n",
       "    }\n",
       "\n",
       "    .dataframe tbody tr th {\n",
       "        vertical-align: top;\n",
       "    }\n",
       "\n",
       "    .dataframe thead th {\n",
       "        text-align: right;\n",
       "    }\n",
       "</style>\n",
       "<table border=\"1\" class=\"dataframe\">\n",
       "  <thead>\n",
       "    <tr style=\"text-align: right;\">\n",
       "      <th></th>\n",
       "      <th>bookID</th>\n",
       "      <th>title</th>\n",
       "      <th>authors</th>\n",
       "      <th>average_rating</th>\n",
       "      <th>isbn</th>\n",
       "      <th>isbn13</th>\n",
       "      <th>language_code</th>\n",
       "      <th>num_pages</th>\n",
       "      <th>ratings_count</th>\n",
       "      <th>text_reviews_count</th>\n",
       "      <th>publication_date</th>\n",
       "      <th>publisher</th>\n",
       "    </tr>\n",
       "  </thead>\n",
       "  <tbody>\n",
       "    <tr>\n",
       "      <th>153</th>\n",
       "      <td>354</td>\n",
       "      <td>To Sail Beyond the Sunset</td>\n",
       "      <td>Robert A. Heinlein</td>\n",
       "      <td>3.87</td>\n",
       "      <td>441748600</td>\n",
       "      <td>9.78044E+12</td>\n",
       "      <td>en-US</td>\n",
       "      <td>434</td>\n",
       "      <td>10293</td>\n",
       "      <td>193</td>\n",
       "      <td>06-01-1988</td>\n",
       "      <td>Ace Books</td>\n",
       "    </tr>\n",
       "    <tr>\n",
       "      <th>154</th>\n",
       "      <td>355</td>\n",
       "      <td>Job: A Comedy of Justice</td>\n",
       "      <td>Robert A. Heinlein</td>\n",
       "      <td>3.78</td>\n",
       "      <td>345316509</td>\n",
       "      <td>9.78035E+12</td>\n",
       "      <td>en-US</td>\n",
       "      <td>439</td>\n",
       "      <td>15970</td>\n",
       "      <td>438</td>\n",
       "      <td>10-12-1985</td>\n",
       "      <td>Del Rey</td>\n",
       "    </tr>\n",
       "    <tr>\n",
       "      <th>4641</th>\n",
       "      <td>16685</td>\n",
       "      <td>The Cat Who Walks Through Walls (The World As ...</td>\n",
       "      <td>Robert A. Heinlein</td>\n",
       "      <td>3.70</td>\n",
       "      <td>441094996</td>\n",
       "      <td>9.78044E+12</td>\n",
       "      <td>en-US</td>\n",
       "      <td>388</td>\n",
       "      <td>19427</td>\n",
       "      <td>572</td>\n",
       "      <td>06-01-1988</td>\n",
       "      <td>Ace Books</td>\n",
       "    </tr>\n",
       "    <tr>\n",
       "      <th>4642</th>\n",
       "      <td>16686</td>\n",
       "      <td>The Fantasies of Robert A. Heinlein</td>\n",
       "      <td>Robert A. Heinlein</td>\n",
       "      <td>3.90</td>\n",
       "      <td>312875576</td>\n",
       "      <td>9.78031E+12</td>\n",
       "      <td>en-US</td>\n",
       "      <td>342</td>\n",
       "      <td>788</td>\n",
       "      <td>45</td>\n",
       "      <td>5/17/2002</td>\n",
       "      <td>Tor Books</td>\n",
       "    </tr>\n",
       "  </tbody>\n",
       "</table>\n",
       "</div>"
      ],
      "text/plain": [
       "      bookID                                              title  \\\n",
       "153      354                          To Sail Beyond the Sunset   \n",
       "154      355                           Job: A Comedy of Justice   \n",
       "4641   16685  The Cat Who Walks Through Walls (The World As ...   \n",
       "4642   16686                The Fantasies of Robert A. Heinlein   \n",
       "\n",
       "                 authors  average_rating       isbn       isbn13  \\\n",
       "153   Robert A. Heinlein            3.87  441748600  9.78044E+12   \n",
       "154   Robert A. Heinlein            3.78  345316509  9.78035E+12   \n",
       "4641  Robert A. Heinlein            3.70  441094996  9.78044E+12   \n",
       "4642  Robert A. Heinlein            3.90  312875576  9.78031E+12   \n",
       "\n",
       "     language_code   num_pages  ratings_count  text_reviews_count  \\\n",
       "153          en-US         434          10293                 193   \n",
       "154          en-US         439          15970                 438   \n",
       "4641         en-US         388          19427                 572   \n",
       "4642         en-US         342            788                  45   \n",
       "\n",
       "     publication_date  publisher  \n",
       "153        06-01-1988  Ace Books  \n",
       "154        10-12-1985    Del Rey  \n",
       "4641       06-01-1988  Ace Books  \n",
       "4642        5/17/2002  Tor Books  "
      ]
     },
     "execution_count": 43,
     "metadata": {},
     "output_type": "execute_result"
    }
   ],
   "source": [
    "df.loc[(df['language_code']=='en-US') & (df['authors']=='Robert A. Heinlein')]"
   ]
  },
  {
   "cell_type": "markdown",
   "id": "28774c94-691e-4120-93b1-b403dfcf65b2",
   "metadata": {},
   "source": [
    "### Find the no. of times The Age of Bronze (Pirates of the Caribbean: Jack Sparrow  #5) was published by Disney Press."
   ]
  },
  {
   "cell_type": "code",
   "execution_count": 55,
   "id": "3bb6ae55-ec8d-48ed-a6c8-05e898dba24b",
   "metadata": {},
   "outputs": [
    {
     "data": {
      "text/html": [
       "<div>\n",
       "<style scoped>\n",
       "    .dataframe tbody tr th:only-of-type {\n",
       "        vertical-align: middle;\n",
       "    }\n",
       "\n",
       "    .dataframe tbody tr th {\n",
       "        vertical-align: top;\n",
       "    }\n",
       "\n",
       "    .dataframe thead th {\n",
       "        text-align: right;\n",
       "    }\n",
       "</style>\n",
       "<table border=\"1\" class=\"dataframe\">\n",
       "  <thead>\n",
       "    <tr style=\"text-align: right;\">\n",
       "      <th></th>\n",
       "      <th>bookID</th>\n",
       "      <th>title</th>\n",
       "      <th>authors</th>\n",
       "      <th>average_rating</th>\n",
       "      <th>isbn</th>\n",
       "      <th>isbn13</th>\n",
       "      <th>language_code</th>\n",
       "      <th>num_pages</th>\n",
       "      <th>ratings_count</th>\n",
       "      <th>text_reviews_count</th>\n",
       "      <th>publication_date</th>\n",
       "      <th>publisher</th>\n",
       "    </tr>\n",
       "  </thead>\n",
       "  <tbody>\n",
       "    <tr>\n",
       "      <th>1686</th>\n",
       "      <td>5881</td>\n",
       "      <td>The Age of Bronze (Pirates of the Caribbean: J...</td>\n",
       "      <td>Rob Kidd/Walt Disney Company</td>\n",
       "      <td>4.05</td>\n",
       "      <td>1423101685</td>\n",
       "      <td>9.78142E+12</td>\n",
       "      <td>eng</td>\n",
       "      <td>144</td>\n",
       "      <td>548</td>\n",
       "      <td>14</td>\n",
       "      <td>12-01-2006</td>\n",
       "      <td>Disney Press</td>\n",
       "    </tr>\n",
       "  </tbody>\n",
       "</table>\n",
       "</div>"
      ],
      "text/plain": [
       "      bookID                                              title  \\\n",
       "1686    5881  The Age of Bronze (Pirates of the Caribbean: J...   \n",
       "\n",
       "                           authors  average_rating        isbn       isbn13  \\\n",
       "1686  Rob Kidd/Walt Disney Company            4.05  1423101685  9.78142E+12   \n",
       "\n",
       "     language_code   num_pages  ratings_count  text_reviews_count  \\\n",
       "1686           eng         144            548                  14   \n",
       "\n",
       "     publication_date     publisher  \n",
       "1686       12-01-2006  Disney Press  "
      ]
     },
     "execution_count": 55,
     "metadata": {},
     "output_type": "execute_result"
    }
   ],
   "source": [
    "(df.loc[(df['title']=='The Age of Bronze (Pirates of the Caribbean: Jack Sparrow  #5)') & (df['publisher']=='Disney Press')])\n",
    "#len(df.loc[(df['title']=='The Age of Bronze (Pirates of the Caribbean: Jack Sparrow  #5)') & (df['publisher']=='Disney Press')])"
   ]
  },
  {
   "cell_type": "markdown",
   "id": "a37ab556-c0e5-47dc-af15-33ed8428c203",
   "metadata": {},
   "source": [
    "##### Answer : 1"
   ]
  },
  {
   "cell_type": "markdown",
   "id": "7ed816f4-696f-4a14-9f08-d3796a88f7d4",
   "metadata": {},
   "source": [
    "### Find out the eng language books published by Grove Press."
   ]
  },
  {
   "cell_type": "code",
   "execution_count": 63,
   "id": "37efd170-3c54-424d-9580-f79f1b04a7cd",
   "metadata": {},
   "outputs": [
    {
     "data": {
      "text/plain": [
       "title\n",
       "Quiet Days in Clichy                                                                                                                       1\n",
       "Tropic of Cancer                                                                                                                           1\n",
       "Great Expectations                                                                                                                         1\n",
       "Rock 'n' Roll                                                                                                                              1\n",
       "Lord Malquist and Mr. Moon                                                                                                                 1\n",
       "The Eternal Frontier: An Ecological History of North America and Its Peoples                                                               1\n",
       "Rosencrantz and Guildenstern Are Dead                                                                                                      1\n",
       "Practicalities                                                                                                                             1\n",
       "India Song                                                                                                                                 1\n",
       "On Love                                                                                                                                    1\n",
       "The Wild Boys                                                                                                                              1\n",
       "Nova Express (The Nova Trilogy  #3)                                                                                                        1\n",
       "Last Words: The Final Journals                                                                                                             1\n",
       "The Soft Machine (The Nova Trilogy #1)                                                                                                     1\n",
       "A Personal Matter                                                                                                                          1\n",
       "The Gospel According to Luke                                                                                                               1\n",
       "Charlie Wilson's War: The Extraordinary Story of How the Wildest Man in Congress and a Rogue CIA Agent Changed the History of our Times    1\n",
       "Empire of the Senseless                                                                                                                    1\n",
       "The House of Morgan: An American Banking Dynasty and the Rise of Modern Finance                                                            1\n",
       "Cosmos and Pornografia: Two Novels                                                                                                         1\n",
       "Cold Mountain                                                                                                                              1\n",
       "Tropic of Capricorn                                                                                                                        1\n",
       "Nexus (The Rosy Crucifixion  #3)                                                                                                           1\n",
       "Sexus (The Rosy Crucifixion  #1)                                                                                                           1\n",
       "Reservation Blues                                                                                                                          1\n",
       "Four Blondes                                                                                                                               1\n",
       "Naked Lunch                                                                                                                                1\n",
       "This Boy's Life                                                                                                                            1\n",
       "Sexing the Cherry                                                                                                                          1\n",
       "The Labyrinth of Solitude and Other Writings                                                                                               1\n",
       "The Bald Soprano and Other Plays                                                                                                           1\n",
       "Three Plays: Exit the King / The Killer / Macbett                                                                                          1\n",
       "Please Kill Me: The Uncensored Oral History of Punk                                                                                        1\n",
       "Edie                                                                                                                                       1\n",
       "The Passion                                                                                                                                1\n",
       "Pedro Páramo                                                                                                                               1\n",
       "Name: count, dtype: int64"
      ]
     },
     "execution_count": 63,
     "metadata": {},
     "output_type": "execute_result"
    }
   ],
   "source": [
    "df['title'].loc[(df['language_code']=='eng') & (df['publisher']=='Grove Press')].value_counts()"
   ]
  },
  {
   "cell_type": "code",
   "execution_count": null,
   "id": "2c211fee-097b-48d7-b0e4-c33a8cfb8539",
   "metadata": {},
   "outputs": [],
   "source": []
  }
 ],
 "metadata": {
  "kernelspec": {
   "display_name": "Python 3 (ipykernel)",
   "language": "python",
   "name": "python3"
  },
  "language_info": {
   "codemirror_mode": {
    "name": "ipython",
    "version": 3
   },
   "file_extension": ".py",
   "mimetype": "text/x-python",
   "name": "python",
   "nbconvert_exporter": "python",
   "pygments_lexer": "ipython3",
   "version": "3.12.4"
  }
 },
 "nbformat": 4,
 "nbformat_minor": 5
}
